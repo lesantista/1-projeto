{
  "nbformat": 4,
  "nbformat_minor": 0,
  "metadata": {
    "colab": {
      "provenance": [],
      "authorship_tag": "ABX9TyMYl4a3gKdpa9hWY8RfvTeE",
      "include_colab_link": true
    },
    "kernelspec": {
      "name": "python3",
      "display_name": "Python 3"
    },
    "language_info": {
      "name": "python"
    }
  },
  "cells": [
    {
      "cell_type": "markdown",
      "metadata": {
        "id": "view-in-github",
        "colab_type": "text"
      },
      "source": [
        "<a href=\"https://colab.research.google.com/github/lesantista/1-projeto/blob/main/Untitled7.ipynb\" target=\"_parent\"><img src=\"https://colab.research.google.com/assets/colab-badge.svg\" alt=\"Open In Colab\"/></a>"
      ]
    },
    {
      "cell_type": "code",
      "execution_count": 15,
      "metadata": {
        "colab": {
          "base_uri": "https://localhost:8080/"
        },
        "id": "LnWfQqDDlZb0",
        "outputId": "6ab4ceef-7d89-4d2f-9696-052473c98548"
      },
      "outputs": [
        {
          "output_type": "stream",
          "name": "stdout",
          "text": [
            "[1, 2, 3, 4, 5, 6, 7, 8, 9, 10]\n"
          ]
        }
      ],
      "source": [
        "#ex1\n",
        "lista = [1, 2, 3, 4, 5, 6, 7, 8, 9, 10]\n",
        "print (lista)"
      ]
    },
    {
      "cell_type": "code",
      "source": [
        "#ex2\n",
        "objetos = ['dado, martelo, xícara, livro, sofá']\n",
        "print (objetos)"
      ],
      "metadata": {
        "colab": {
          "base_uri": "https://localhost:8080/"
        },
        "id": "ma14wr2Llr4Q",
        "outputId": "5b155ff4-01d6-4743-e98d-046a0f3e6685"
      },
      "execution_count": 3,
      "outputs": [
        {
          "output_type": "stream",
          "name": "stdout",
          "text": [
            "['dado, martelo, xícara, livro, sofá']\n"
          ]
        }
      ]
    },
    {
      "cell_type": "code",
      "source": [
        "#ex3\n",
        "palavra1 = ('Lorenzo e ')\n",
        "palavra2 = ('Andreia')\n",
        "total = (palavra1 + palavra2)\n",
        "print (total)"
      ],
      "metadata": {
        "colab": {
          "base_uri": "https://localhost:8080/"
        },
        "id": "0aMRpD0RmBap",
        "outputId": "90d81014-3d5a-4d96-b375-4a0d9b8000a8"
      },
      "execution_count": 8,
      "outputs": [
        {
          "output_type": "stream",
          "name": "stdout",
          "text": [
            "Lorenzo e Andreia\n"
          ]
        }
      ]
    },
    {
      "cell_type": "code",
      "source": [
        "#ex4\n",
        "contagem = (1,2, 2, 3, 4, 4, 5)\n",
        "contagem.count(4)"
      ],
      "metadata": {
        "colab": {
          "base_uri": "https://localhost:8080/"
        },
        "id": "EdIqZKvWmnHT",
        "outputId": "78f8d0e6-9574-4f99-f888-ab2001154b5a"
      },
      "execution_count": 12,
      "outputs": [
        {
          "output_type": "execute_result",
          "data": {
            "text/plain": [
              "2"
            ]
          },
          "metadata": {},
          "execution_count": 12
        }
      ]
    },
    {
      "cell_type": "code",
      "source": [
        "#ex5\n",
        "dicio = {}\n",
        "print (dicio)"
      ],
      "metadata": {
        "colab": {
          "base_uri": "https://localhost:8080/"
        },
        "id": "TAJzEtrzofoU",
        "outputId": "efa853f6-6567-49bc-d2b2-c77cc7422b6f"
      },
      "execution_count": 13,
      "outputs": [
        {
          "output_type": "stream",
          "name": "stdout",
          "text": [
            "{}\n"
          ]
        }
      ]
    },
    {
      "cell_type": "code",
      "source": [
        "#ex6\n",
        "dic1 = {'Leandro':38, 'Andreia':38, 'Lorenzo':8}\n",
        "print (dic1)"
      ],
      "metadata": {
        "colab": {
          "base_uri": "https://localhost:8080/"
        },
        "id": "rqld4WOZooUx",
        "outputId": "6e4d00b7-bd6d-4a79-e80d-3bfdc28972d9"
      },
      "execution_count": 28,
      "outputs": [
        {
          "output_type": "stream",
          "name": "stdout",
          "text": [
            "{'Leandro': 38, 'Andreia': 38, 'Lorenzo': 8}\n"
          ]
        }
      ]
    },
    {
      "cell_type": "code",
      "source": [
        "#ex7\n",
        "dic1 = {'Leandro':38, 'Andreia':38, 'Lorenzo':8}\n",
        "dic1['Dudu'] = 2\n",
        "print (dic1)"
      ],
      "metadata": {
        "colab": {
          "base_uri": "https://localhost:8080/"
        },
        "id": "N3WbzIIPphwL",
        "outputId": "2cef1b59-1efc-4537-dc42-e9f453184401"
      },
      "execution_count": 29,
      "outputs": [
        {
          "output_type": "stream",
          "name": "stdout",
          "text": [
            "{'Leandro': 38, 'Andreia': 38, 'Lorenzo': 8, 'Dudu': 2}\n"
          ]
        }
      ]
    },
    {
      "cell_type": "code",
      "source": [
        "#ex8\n",
        "dic1 = {'Leandro':38, 'Andreia':38, 'Lorenzo':[8, 2]}\n",
        "print (dic1)"
      ],
      "metadata": {
        "colab": {
          "base_uri": "https://localhost:8080/"
        },
        "id": "TEkpVaDvsI-_",
        "outputId": "36164663-7011-4ac1-af04-49c4e9461709"
      },
      "execution_count": 31,
      "outputs": [
        {
          "output_type": "stream",
          "name": "stdout",
          "text": [
            "{'Leandro': 38, 'Andreia': 38, 'Lorenzo': [8, 2]}\n"
          ]
        }
      ]
    },
    {
      "cell_type": "code",
      "source": [
        "#ex9\n",
        "lis = ['Pai', (2, 40), {'Mae':60, 'Priscilla':32}, 1,5]\n",
        "print (lis)"
      ],
      "metadata": {
        "colab": {
          "base_uri": "https://localhost:8080/"
        },
        "id": "6XaljObWslGy",
        "outputId": "95f71529-fc76-41de-aeb1-3c0f82e2ff0d"
      },
      "execution_count": 34,
      "outputs": [
        {
          "output_type": "stream",
          "name": "stdout",
          "text": [
            "['Pai', (2, 40), {'Mae': 60, 'Priscilla': 32}, 1, 5]\n"
          ]
        }
      ]
    },
    {
      "cell_type": "code",
      "source": [
        "#ex10\n",
        "frase = ('Cientista de Dados é o profissional mais sexy do século XXI')\n",
        "print (frase[1:18])"
      ],
      "metadata": {
        "colab": {
          "base_uri": "https://localhost:8080/"
        },
        "id": "PC0Co6dJt7Kc",
        "outputId": "7d21201b-7afc-4e06-a046-574e7cb6179a"
      },
      "execution_count": 36,
      "outputs": [
        {
          "output_type": "stream",
          "name": "stdout",
          "text": [
            "ientista de Dados\n"
          ]
        }
      ]
    }
  ]
}